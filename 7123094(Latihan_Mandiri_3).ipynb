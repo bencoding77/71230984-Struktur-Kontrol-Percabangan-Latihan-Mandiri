{
  "nbformat": 4,
  "nbformat_minor": 0,
  "metadata": {
    "colab": {
      "provenance": []
    },
    "kernelspec": {
      "name": "python3",
      "display_name": "Python 3"
    },
    "language_info": {
      "name": "python"
    }
  },
  "cells": [
    {
      "cell_type": "markdown",
      "source": [
        "Soal 1.1, 1.2 dan 1.3"
      ],
      "metadata": {
        "id": "Ct61HayiEO1M"
      }
    },
    {
      "cell_type": "code",
      "source": [
        "input_suhu = input(\"Masukkan suhu anda: \")\n",
        "\n",
        "try:\n",
        "    input_suhu = int(input_suhu)\n",
        "\n",
        "    if input_suhu >= 38:\n",
        "        print(\"Anda terkena demam.\")\n",
        "    else:\n",
        "        print(\"Anda sehat.\")\n",
        "\n",
        "except:\n",
        "    print(\"Data anda tidak valid.\")"
      ],
      "metadata": {
        "colab": {
          "base_uri": "https://localhost:8080/"
        },
        "id": "GpVnlvhCES06",
        "outputId": "010d0cda-85df-4733-9de1-fcc28953d2f6"
      },
      "execution_count": 1,
      "outputs": [
        {
          "output_type": "stream",
          "name": "stdout",
          "text": [
            "Masukkan suhu anda: 40\n",
            "Anda terkena demam.\n"
          ]
        }
      ]
    },
    {
      "cell_type": "code",
      "source": [
        "angka = input(\"Masukkan bilangan anda: \")\n",
        "\n",
        "try:\n",
        "    angka = int(angka)\n",
        "\n",
        "    if angka > 0:\n",
        "        print(\"Bilangan positif.\")\n",
        "    elif angka < 0:\n",
        "        print(\"Bilangan negatif.\")\n",
        "    else:\n",
        "        print(\"Bilangan nol.\")\n",
        "\n",
        "except:\n",
        "    print(\"Data anda salah, coba lagi.\")"
      ],
      "metadata": {
        "colab": {
          "base_uri": "https://localhost:8080/"
        },
        "id": "BZXHLO2OEdMc",
        "outputId": "f0b8041f-ca89-497a-a8d3-9dd9f44ff8d5"
      },
      "execution_count": 2,
      "outputs": [
        {
          "output_type": "stream",
          "name": "stdout",
          "text": [
            "Masukkan bilangan anda: 0\n",
            "Bilangan nol.\n"
          ]
        }
      ]
    },
    {
      "cell_type": "code",
      "source": [
        "a = input(\"Masukkan angka a: \")\n",
        "b = input(\"Masukkan angka b: \")\n",
        "c = input(\"Masukkan angka c: \")\n",
        "\n",
        "try:\n",
        "    a = int(a)\n",
        "    b = int(b)\n",
        "    c = int(c)\n",
        "\n",
        "    if a > b and a > c:\n",
        "        print(\"Bilangan terbesar = \", a)\n",
        "    elif b > a and b > c:\n",
        "        print(\"Bilangan terbesar = \", b)\n",
        "    elif c > a and c > b:\n",
        "        print(\"Bilangan terbesar = \", c)\n",
        "\n",
        "except:\n",
        "    print(\"Data anda salah. Coba lagi!\")"
      ],
      "metadata": {
        "colab": {
          "base_uri": "https://localhost:8080/"
        },
        "id": "kSZmfOI3ElY0",
        "outputId": "e944fa9d-b8fc-408f-8033-77a40f47fc6a"
      },
      "execution_count": 5,
      "outputs": [
        {
          "output_type": "stream",
          "name": "stdout",
          "text": [
            "Masukkan angka a: 8\n",
            "Masukkan angka b: 5\n",
            "Masukkan angka c: 6\n",
            "Bilangan terbesar =  8\n"
          ]
        }
      ]
    },
    {
      "cell_type": "markdown",
      "source": [
        "Soal 2"
      ],
      "metadata": {
        "id": "SB4VZ2hgFFMP"
      }
    },
    {
      "cell_type": "code",
      "source": [
        "angka = int(input(\"Masukkan angka yang anda inginkan: \"))\n",
        "print(\"Bilangan positif\" if angka > 0 else \"Bilangan negatif\" if angka < 0 else \"Bilangan nol\")"
      ],
      "metadata": {
        "colab": {
          "base_uri": "https://localhost:8080/"
        },
        "id": "2ZLe1YI2FGiZ",
        "outputId": "3dacc9f7-75ea-4d35-af1e-71d6fe63281a"
      },
      "execution_count": 6,
      "outputs": [
        {
          "output_type": "stream",
          "name": "stdout",
          "text": [
            "Masukkan angka yang anda inginkan: 8\n",
            "Bilangan positif\n"
          ]
        }
      ]
    },
    {
      "cell_type": "markdown",
      "source": [
        "Soal 3"
      ],
      "metadata": {
        "id": "3ReOhvI5FOyP"
      }
    },
    {
      "cell_type": "code",
      "source": [
        "import calendar\n",
        "\n",
        "try:\n",
        "    tahun = 2020\n",
        "    bulan = int(input(\"Masukkan bulan(1-12): \"))\n",
        "\n",
        "    if bulan < 1 or bulan > 12:\n",
        "        print(\"Input tidak sesuai di kalender.\")\n",
        "    else:\n",
        "        skip, days = calendar.monthrange(tahun, bulan)\n",
        "        print(\"Jumlah hari:\", days)\n",
        "except:\n",
        "    print(\"Bulan yang dimasukkan salah.\")"
      ],
      "metadata": {
        "colab": {
          "base_uri": "https://localhost:8080/"
        },
        "id": "OWSk_8jjFRuo",
        "outputId": "d927c451-0cd7-4f8b-f8fd-86afc40feae9"
      },
      "execution_count": 7,
      "outputs": [
        {
          "output_type": "stream",
          "name": "stdout",
          "text": [
            "Masukkan bulan(1-12): 8\n",
            "Jumlah hari: 31\n"
          ]
        }
      ]
    },
    {
      "cell_type": "markdown",
      "source": [
        "Soal 4"
      ],
      "metadata": {
        "id": "CWfwZaeeFh1Q"
      }
    },
    {
      "cell_type": "code",
      "source": [
        "try:\n",
        "    print(\"=======Silahkan Masukkan Data dalam Angka Bulat!=======\")\n",
        "    sisi_pertama = int(input(\"Masukkan sisi pertama: \"))\n",
        "    sisi_kedua = int(input(\"Masukkan sisi kedua: \"))\n",
        "    sisi_ketiga = int(input(\"Masukkan sisi ketiga: \"))\n",
        "\n",
        "    if sisi_pertama == sisi_kedua == sisi_ketiga:\n",
        "        print(\"Ketiga sisi sama\")\n",
        "    elif sisi_pertama == sisi_kedua != sisi_ketiga or sisi_pertama != sisi_kedua == sisi_ketiga or sisi_pertama == sisi_ketiga != sisi_kedua:\n",
        "        print(\"Kedua sisi sama\")\n",
        "    else:\n",
        "        print(\"Tidak ada sisi yang sama\")\n",
        "\n",
        "except:\n",
        "    print(\"Anda salah memasukkan inputan data.\")"
      ],
      "metadata": {
        "colab": {
          "base_uri": "https://localhost:8080/"
        },
        "id": "SaIlUU3_Fj0a",
        "outputId": "b7a4a4bc-d36b-4ec7-cde3-04ea4aaed4dc"
      },
      "execution_count": 8,
      "outputs": [
        {
          "output_type": "stream",
          "name": "stdout",
          "text": [
            "=======Silahkan Masukkan Data dalam Angka Bulat!=======\n",
            "Masukkan sisi pertama: 20\n",
            "Masukkan sisi kedua: 15\n",
            "Masukkan sisi ketiga: 15\n",
            "Kedua sisi sama\n"
          ]
        }
      ]
    }
  ]
}